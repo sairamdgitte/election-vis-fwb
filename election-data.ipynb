{
 "cells": [
  {
   "cell_type": "code",
   "execution_count": 78,
   "metadata": {},
   "outputs": [],
   "source": [
    "import pandas as pd\n",
    "import re\n",
    "import numpy as np\n",
    "from collections import Counter\n",
    "import json"
   ]
  },
  {
   "cell_type": "code",
   "execution_count": 2,
   "metadata": {},
   "outputs": [],
   "source": [
    "df = pd.read_csv('fwb-australia-topic-prediction.csv')"
   ]
  },
  {
   "cell_type": "code",
   "execution_count": 19,
   "metadata": {},
   "outputs": [
    {
     "data": {
      "text/plain": [
       "\"['form' 'compani' 'famili' 'much' 'land' 'hand' 'farm' 'children' 'part'\\n 'succession_plan' 'final' 'decis' 'inevit' 'differ' 'everi' 'famili'\\n 'work' 'issu' 'number' 'children' 'number' 'farm' 'children' 'amount'\\n 'farm' 'debt' 'provis' 'made' 'parent' 'retir' 'coupl' 'farm' 'southern'\\n 'success' 'plan' 'give' 'farm' 'son' 'run' 'properti' 'still' 'retain'\\n 'control' 'land' 'start' 'think' 'plan' 'earli' 'prompt' 'main' 'account'\\n 'suggest' 'could' 'form' 'compani' 'reduc' 'taxat' 'payment' 'would'\\n 'turn' 'give' 'abil' 'fund' 'farm' 'superannu' 'seek' 'profession'\\n 'advic' 'famili' 'compani' 'husband' 'wife' 'director' 'famili' 'trust'\\n 'also' 'land' 'bought' 'either' 'compani' 'trust' 'name' 'requir' 'work'\\n 'presumpt' 'least' 'son' 'would' 'return' 'home' 'sought' 'advic' 'earli'\\n 'plan' 'allow' 'purchas' 'land' 'right' 'entiti' 'expand' 'busi' 'parent'\\n 'retain' 'control' 'busi' 'time' 'offici' 'hand' 'son' 'like' 'will'\\n 'happen' 'land' 'own' 'trust' 'compani' 'land' 'abl' 'farm' 'right'\\n 'look' 'arrang' 'place' 'son' 'farm' 'independ' 'brother' 'relationship'\\n 'stress' 'said' 'land' 'eventu' 'own' 'suitabl' 'titl' 'son' 'employ'\\n 'manag' 'paid' 'salari' 'well' 'elig' 'bonus' 'base' 'good' 'busi'\\n 'perform' 'everyday' 'farm' 'oper' 'manag' 'son' 'consult' 'parent'\\n 'crop' 'program' 'major' 'equip' 'purchas' 'author' 'sign' 'chequ' 'make'\\n 'decis' 'basic' 'pretti' 'free' 'hand' 'father' 'said' 'land' 'name'\\n 'great' 'concern' 'son' 'reli' 'goodwil' 'parent' 'land' 'son' 'also'\\n 'famili' 'busi' 'arrang' 'earli' 'plan' 'meant' 'parent' 'reach' 'retir'\\n 'abl' 'live' 'self_fund' 'retir' 'plan' 'draw' 'farm' 'liquid' 'capit'\\n 'farm' 'busi' 'bless' 'reason' 'season' 'year' 'contribut' 'maximum'\\n 'amount' 'possibl' 'superannu' 'fund' 'recognis' 'financi' 'demand' 'son'\\n 'grow' 'famili' 'son' 'equal' 'realis' 'parent' 'need' 'enough' 'money'\\n 'retir' 'third' 'child' 'farm' 'beneficiari' 'farm' 'invest' 'valuat'\\n 'farm' 'asset' 'done' 'start' 'first' 'involv' 'enterpris' 'prior'\\n 'provis' 'three' 'children' 'made' 'will' 'updat' 'necessari' 'coupl'\\n 'acknowledg' 'hard' 'fast' 'rule' 'come' 'succession_plan' 'everi'\\n 'famili' 'differ' 'overal' 'parent' 'emphasis' 'valu' 'good' 'profession'\\n 'advic' 'particular' 'make' 'busi' 'arrang' 'would' 'maximis' 'best'\\n 'overal' 'result' 'earli' 'plan' 'profession' 'advic' 'cost' 'money'\\n 'money' 'well' 'spent' 'ensur' 'tri' 'achiev' 'legal' 'workabl' 'said'\\n 'want' 'keep' 'farm' 'place' 'futur' 'generat' 'plan' 'ahead' 'plan'\\n 'land' 'young' 'feet' 'leav' 'plan' 'late' 'could' 'restrict' 'peopl'\\n 'option' 'good' 'communic' 'also' 'everyon' 'famili' 'need' 'know' 'plan'\\n 'could' 'save' 'heartach' 'conflict' 'later']\""
      ]
     },
     "execution_count": 19,
     "metadata": {},
     "output_type": "execute_result"
    }
   ],
   "source": [
    "df.preprocessed_list_with_bi_tri[0]"
   ]
  },
  {
   "cell_type": "code",
   "execution_count": 30,
   "metadata": {},
   "outputs": [],
   "source": [
    "# Convert the list of words within a string \n",
    "# to a list of words\n",
    "df.preprocessed_list_with_bi_tri = df.preprocessed_list_with_bi_tri.apply(lambda x: re.findall(r\"'(\\w+)'\", x))"
   ]
  },
  {
   "cell_type": "code",
   "execution_count": 35,
   "metadata": {},
   "outputs": [
    {
     "data": {
      "text/html": [
       "<div>\n",
       "<style scoped>\n",
       "    .dataframe tbody tr th:only-of-type {\n",
       "        vertical-align: middle;\n",
       "    }\n",
       "\n",
       "    .dataframe tbody tr th {\n",
       "        vertical-align: top;\n",
       "    }\n",
       "\n",
       "    .dataframe thead th {\n",
       "        text-align: right;\n",
       "    }\n",
       "</style>\n",
       "<table border=\"1\" class=\"dataframe\">\n",
       "  <thead>\n",
       "    <tr style=\"text-align: right;\">\n",
       "      <th></th>\n",
       "      <th>text</th>\n",
       "      <th>region_of_origin</th>\n",
       "      <th>publication_date</th>\n",
       "      <th>publisher_name</th>\n",
       "      <th>preprocessed_sentence</th>\n",
       "      <th>preprocessed_list_with_bi_tri</th>\n",
       "      <th>preprocessed_len</th>\n",
       "      <th>topics</th>\n",
       "      <th>corrected_topics</th>\n",
       "    </tr>\n",
       "  </thead>\n",
       "  <tbody>\n",
       "    <tr>\n",
       "      <th>0</th>\n",
       "      <td>Forming a company key for one family   HOW, wh...</td>\n",
       "      <td>AUSNZ AUSTR</td>\n",
       "      <td>1120089600000</td>\n",
       "      <td>West Australian Newspapers Limited</td>\n",
       "      <td>['forming', 'company', 'family', 'much', 'land...</td>\n",
       "      <td>[form, compani, famili, much, land, hand, farm...</td>\n",
       "      <td>320</td>\n",
       "      <td>Topic 20</td>\n",
       "      <td>topic 20</td>\n",
       "    </tr>\n",
       "    <tr>\n",
       "      <th>1</th>\n",
       "      <td>There are many different types of homebuyers, ...</td>\n",
       "      <td>AUSNZ AUSTR</td>\n",
       "      <td>1493424000000</td>\n",
       "      <td>Fairfax Media Management Pty Limited</td>\n",
       "      <td>['many', 'different', 'types', 'homebuyers', '...</td>\n",
       "      <td>[mani, differ, type, homebuy, understand, help...</td>\n",
       "      <td>68</td>\n",
       "      <td>Topic 40</td>\n",
       "      <td>topic 40</td>\n",
       "    </tr>\n",
       "    <tr>\n",
       "      <th>2</th>\n",
       "      <td>Off-the-plan contracts review The NSW Governme...</td>\n",
       "      <td>AUSNZ AUSTR</td>\n",
       "      <td>1517616000000</td>\n",
       "      <td>Fairfax Media Management Pty Limited</td>\n",
       "      <td>['plan', 'contracts', 'review', 'government', ...</td>\n",
       "      <td>[plan, contract, review, govern, releas, discu...</td>\n",
       "      <td>59</td>\n",
       "      <td>Topic 36</td>\n",
       "      <td>topic 36</td>\n",
       "    </tr>\n",
       "    <tr>\n",
       "      <th>3</th>\n",
       "      <td>'Super must rise to 12%': MP Whitlam MP Stephe...</td>\n",
       "      <td>AUSNZ AUSTR</td>\n",
       "      <td>1570579200000</td>\n",
       "      <td>Fairfax Media Management Pty Limited</td>\n",
       "      <td>['super', 'must', 'rise', 'whitlam', 'stephen'...</td>\n",
       "      <td>[super, must, rise, whitlam, stephen_jon, say,...</td>\n",
       "      <td>130</td>\n",
       "      <td>Topic 28</td>\n",
       "      <td>topic 28</td>\n",
       "    </tr>\n",
       "    <tr>\n",
       "      <th>4</th>\n",
       "      <td>Where there's a will TODAY I'd like to talk ab...</td>\n",
       "      <td>AUSNZ AUSTR</td>\n",
       "      <td>1558742400000</td>\n",
       "      <td>Fairfax Media Management Pty Limited</td>\n",
       "      <td>['today', 'like', 'talk', 'death', 'attention'...</td>\n",
       "      <td>[today, like, talk, death, attent, heaven_sak,...</td>\n",
       "      <td>333</td>\n",
       "      <td>Topic 46</td>\n",
       "      <td>topic 59</td>\n",
       "    </tr>\n",
       "    <tr>\n",
       "      <th>...</th>\n",
       "      <td>...</td>\n",
       "      <td>...</td>\n",
       "      <td>...</td>\n",
       "      <td>...</td>\n",
       "      <td>...</td>\n",
       "      <td>...</td>\n",
       "      <td>...</td>\n",
       "      <td>...</td>\n",
       "      <td>...</td>\n",
       "    </tr>\n",
       "    <tr>\n",
       "      <th>119942</th>\n",
       "      <td>Super choice brings costs   ONE in two small b...</td>\n",
       "      <td>AUSNZ AUSTR</td>\n",
       "      <td>1130889600000</td>\n",
       "      <td>Nationwide News Pty Ltd.</td>\n",
       "      <td>['super', 'choice', 'brings', 'costs', 'small'...</td>\n",
       "      <td>[super, choic, bring, cost, small, busi, owner...</td>\n",
       "      <td>42</td>\n",
       "      <td>Topic 47</td>\n",
       "      <td>topic 45</td>\n",
       "    </tr>\n",
       "    <tr>\n",
       "      <th>119943</th>\n",
       "      <td>Home loans guide   NO doc, low doc, combinatio...</td>\n",
       "      <td>AUSNZ AUSTR</td>\n",
       "      <td>1155686400000</td>\n",
       "      <td>Nationwide News Pty Ltd.</td>\n",
       "      <td>['home', 'loans', 'guide', 'combination', 'spl...</td>\n",
       "      <td>[home, loan, guid, combin, split, honeymoon, s...</td>\n",
       "      <td>82</td>\n",
       "      <td>Topic 50</td>\n",
       "      <td>topic 50</td>\n",
       "    </tr>\n",
       "    <tr>\n",
       "      <th>119944</th>\n",
       "      <td>Taxing times for families TAXPAYERS having the...</td>\n",
       "      <td>AUSNZ AUSTR</td>\n",
       "      <td>1216771200000</td>\n",
       "      <td>Nationwide News Pty. Ltd.</td>\n",
       "      <td>['taxing', 'times', 'families', 'taxpayers', '...</td>\n",
       "      <td>[tax, time, famili, taxpay, return, prepar, aw...</td>\n",
       "      <td>112</td>\n",
       "      <td>Topic 36</td>\n",
       "      <td>topic 36</td>\n",
       "    </tr>\n",
       "    <tr>\n",
       "      <th>119945</th>\n",
       "      <td>Legal papers vital    Legal papers vital     W...</td>\n",
       "      <td>AUSNZ AUSTR</td>\n",
       "      <td>1188950400000</td>\n",
       "      <td>Nationwide News Pty Ltd.</td>\n",
       "      <td>['legal', 'papers', 'vital', 'legal', 'papers'...</td>\n",
       "      <td>[legal, paper, vital, legal, paper, vital, cen...</td>\n",
       "      <td>158</td>\n",
       "      <td>Topic 43</td>\n",
       "      <td>topic 40</td>\n",
       "    </tr>\n",
       "    <tr>\n",
       "      <th>119946</th>\n",
       "      <td>building up assets Your first purchase of a ho...</td>\n",
       "      <td>AUSNZ AUSTR</td>\n",
       "      <td>1249776000000</td>\n",
       "      <td>Nationwide News Pty Ltd.</td>\n",
       "      <td>['building', 'assets', 'first', 'purchase', 'h...</td>\n",
       "      <td>[build, asset, first, purchas, hous, unlik, la...</td>\n",
       "      <td>288</td>\n",
       "      <td>Topic 40</td>\n",
       "      <td>topic 40</td>\n",
       "    </tr>\n",
       "  </tbody>\n",
       "</table>\n",
       "<p>119947 rows × 9 columns</p>\n",
       "</div>"
      ],
      "text/plain": [
       "                                                     text region_of_origin  \\\n",
       "0       Forming a company key for one family   HOW, wh...      AUSNZ AUSTR   \n",
       "1       There are many different types of homebuyers, ...      AUSNZ AUSTR   \n",
       "2       Off-the-plan contracts review The NSW Governme...      AUSNZ AUSTR   \n",
       "3       'Super must rise to 12%': MP Whitlam MP Stephe...      AUSNZ AUSTR   \n",
       "4       Where there's a will TODAY I'd like to talk ab...      AUSNZ AUSTR   \n",
       "...                                                   ...              ...   \n",
       "119942  Super choice brings costs   ONE in two small b...      AUSNZ AUSTR   \n",
       "119943  Home loans guide   NO doc, low doc, combinatio...      AUSNZ AUSTR   \n",
       "119944  Taxing times for families TAXPAYERS having the...      AUSNZ AUSTR   \n",
       "119945  Legal papers vital    Legal papers vital     W...      AUSNZ AUSTR   \n",
       "119946  building up assets Your first purchase of a ho...      AUSNZ AUSTR   \n",
       "\n",
       "        publication_date                        publisher_name  \\\n",
       "0          1120089600000    West Australian Newspapers Limited   \n",
       "1          1493424000000  Fairfax Media Management Pty Limited   \n",
       "2          1517616000000  Fairfax Media Management Pty Limited   \n",
       "3          1570579200000  Fairfax Media Management Pty Limited   \n",
       "4          1558742400000  Fairfax Media Management Pty Limited   \n",
       "...                  ...                                   ...   \n",
       "119942     1130889600000              Nationwide News Pty Ltd.   \n",
       "119943     1155686400000              Nationwide News Pty Ltd.   \n",
       "119944     1216771200000             Nationwide News Pty. Ltd.   \n",
       "119945     1188950400000              Nationwide News Pty Ltd.   \n",
       "119946     1249776000000              Nationwide News Pty Ltd.   \n",
       "\n",
       "                                    preprocessed_sentence  \\\n",
       "0       ['forming', 'company', 'family', 'much', 'land...   \n",
       "1       ['many', 'different', 'types', 'homebuyers', '...   \n",
       "2       ['plan', 'contracts', 'review', 'government', ...   \n",
       "3       ['super', 'must', 'rise', 'whitlam', 'stephen'...   \n",
       "4       ['today', 'like', 'talk', 'death', 'attention'...   \n",
       "...                                                   ...   \n",
       "119942  ['super', 'choice', 'brings', 'costs', 'small'...   \n",
       "119943  ['home', 'loans', 'guide', 'combination', 'spl...   \n",
       "119944  ['taxing', 'times', 'families', 'taxpayers', '...   \n",
       "119945  ['legal', 'papers', 'vital', 'legal', 'papers'...   \n",
       "119946  ['building', 'assets', 'first', 'purchase', 'h...   \n",
       "\n",
       "                            preprocessed_list_with_bi_tri  preprocessed_len  \\\n",
       "0       [form, compani, famili, much, land, hand, farm...               320   \n",
       "1       [mani, differ, type, homebuy, understand, help...                68   \n",
       "2       [plan, contract, review, govern, releas, discu...                59   \n",
       "3       [super, must, rise, whitlam, stephen_jon, say,...               130   \n",
       "4       [today, like, talk, death, attent, heaven_sak,...               333   \n",
       "...                                                   ...               ...   \n",
       "119942  [super, choic, bring, cost, small, busi, owner...                42   \n",
       "119943  [home, loan, guid, combin, split, honeymoon, s...                82   \n",
       "119944  [tax, time, famili, taxpay, return, prepar, aw...               112   \n",
       "119945  [legal, paper, vital, legal, paper, vital, cen...               158   \n",
       "119946  [build, asset, first, purchas, hous, unlik, la...               288   \n",
       "\n",
       "          topics corrected_topics  \n",
       "0       Topic 20         topic 20  \n",
       "1       Topic 40         topic 40  \n",
       "2       Topic 36         topic 36  \n",
       "3       Topic 28         topic 28  \n",
       "4       Topic 46         topic 59  \n",
       "...          ...              ...  \n",
       "119942  Topic 47         topic 45  \n",
       "119943  Topic 50         topic 50  \n",
       "119944  Topic 36         topic 36  \n",
       "119945  Topic 43         topic 40  \n",
       "119946  Topic 40         topic 40  \n",
       "\n",
       "[119947 rows x 9 columns]"
      ]
     },
     "execution_count": 35,
     "metadata": {},
     "output_type": "execute_result"
    }
   ],
   "source": [
    "df"
   ]
  },
  {
   "cell_type": "code",
   "execution_count": 36,
   "metadata": {},
   "outputs": [],
   "source": [
    "# Convert the timestamp column to datetime\n",
    "df['publication_date'] = pd.to_datetime(df['publication_date'], unit='ms')"
   ]
  },
  {
   "cell_type": "code",
   "execution_count": 38,
   "metadata": {},
   "outputs": [],
   "source": [
    "df['year'] = df.publication_date.dt.year"
   ]
  },
  {
   "attachments": {},
   "cell_type": "markdown",
   "metadata": {},
   "source": [
    "# Convert it to a json format"
   ]
  },
  {
   "attachments": {},
   "cell_type": "markdown",
   "metadata": {},
   "source": [
    "## For 2022"
   ]
  },
  {
   "cell_type": "code",
   "execution_count": 136,
   "metadata": {},
   "outputs": [],
   "source": [
    "def get_filtered_data_on_year(year):\n",
    "    df_year = df[df.year == year]\n",
    "    list_of_year_words = np.concatenate(df_year.preprocessed_list_with_bi_tri.values).tolist()\n",
    "    # Calculate the frequencies of each word\n",
    "    word_frequencies_year = Counter(list_of_year_words)\n",
    "    # Convert the frequencies to a dataframe\n",
    "    frequencies_df_year = pd.DataFrame.from_dict(word_frequencies_year, orient='index', columns=['Frequency'])\n",
    "    # Sort the dataframe by frequency in descending order\n",
    "    frequencies_df_year = frequencies_df_year.sort_values('Frequency', ascending=False)\n",
    "    frequencies_df_year = frequencies_df_year.iloc[0:60]\n",
    "    return frequencies_df_year, df_year"
   ]
  },
  {
   "cell_type": "code",
   "execution_count": 134,
   "metadata": {},
   "outputs": [],
   "source": [
    "def get_json_data(frequencies_df):\n",
    "    json_data_year = []\n",
    "    for i,r in frequencies_df.iterrows():\n",
    "        json_data = {\"word\": '', \"frequency\": 0}\n",
    "        json_data.update({\"word\": i, \"frequency\": int(r[0])})\n",
    "        json_data_year.append(json_data)\n",
    "    # Serialize the JSON data\n",
    "    json_string = json.dumps(json_data_year, ensure_ascii=False)\n",
    "\n",
    "    # Print the JSON string\n",
    "    return json_string\n"
   ]
  },
  {
   "cell_type": "code",
   "execution_count": 137,
   "metadata": {},
   "outputs": [],
   "source": [
    "frequencies_df_2022, df_2022 = get_filtered_data_on_year(year=2022)"
   ]
  },
  {
   "cell_type": "code",
   "execution_count": 138,
   "metadata": {},
   "outputs": [
    {
     "data": {
      "text/plain": [
       "'[{\"word\": \"year\", \"frequency\": 18403}, {\"word\": \"cent\", \"frequency\": 15859}, {\"word\": \"rate\", \"frequency\": 13055}, {\"word\": \"said\", \"frequency\": 12952}, {\"word\": \"super\", \"frequency\": 12772}, {\"word\": \"fund\", \"frequency\": 12598}, {\"word\": \"invest\", \"frequency\": 11414}, {\"word\": \"home\", \"frequency\": 10512}, {\"word\": \"would\", \"frequency\": 10306}, {\"word\": \"financi\", \"frequency\": 9084}, {\"word\": \"say\", \"frequency\": 8558}, {\"word\": \"price\", \"frequency\": 8321}, {\"word\": \"market\", \"frequency\": 7732}, {\"word\": \"retir\", \"frequency\": 7651}, {\"word\": \"time\", \"frequency\": 7448}, {\"word\": \"pension\", \"frequency\": 7305}, {\"word\": \"incom\", \"frequency\": 7078}, {\"word\": \"also\", \"frequency\": 6809}, {\"word\": \"make\", \"frequency\": 6634}, {\"word\": \"interest\", \"frequency\": 6620}, {\"word\": \"superannu\", \"frequency\": 6527}, {\"word\": \"servic\", \"frequency\": 6502}, {\"word\": \"properti\", \"frequency\": 6474}, {\"word\": \"need\", \"frequency\": 6425}, {\"word\": \"cost\", \"frequency\": 6419}, {\"word\": \"peopl\", \"frequency\": 6333}, {\"word\": \"australian\", \"frequency\": 6136}, {\"word\": \"govern\", \"frequency\": 6012}, {\"word\": \"increas\", \"frequency\": 5935}, {\"word\": \"money\", \"frequency\": 5794}, {\"word\": \"work\", \"frequency\": 5779}, {\"word\": \"bank\", \"frequency\": 5610}, {\"word\": \"hous\", \"frequency\": 5571}, {\"word\": \"could\", \"frequency\": 5552}, {\"word\": \"rise\", \"frequency\": 5500}, {\"word\": \"save\", \"frequency\": 5387}, {\"word\": \"asset\", \"frequency\": 5083}, {\"word\": \"like\", \"frequency\": 5078}, {\"word\": \"australia\", \"frequency\": 5019}, {\"word\": \"month\", \"frequency\": 4945}, {\"word\": \"loan\", \"frequency\": 4890}, {\"word\": \"first\", \"frequency\": 4818}, {\"word\": \"mortgag\", \"frequency\": 4682}, {\"word\": \"investor\", \"frequency\": 4463}, {\"word\": \"includ\", \"frequency\": 4380}, {\"word\": \"account\", \"frequency\": 4184}, {\"word\": \"million\", \"frequency\": 4161}, {\"word\": \"take\", \"frequency\": 4152}, {\"word\": \"provid\", \"frequency\": 4133}, {\"word\": \"share\", \"frequency\": 4076}, {\"word\": \"manag\", \"frequency\": 4021}, {\"word\": \"mani\", \"frequency\": 3963}, {\"word\": \"return\", \"frequency\": 3919}, {\"word\": \"contribut\", \"frequency\": 3876}, {\"word\": \"help\", \"frequency\": 3826}, {\"word\": \"live\", \"frequency\": 3703}, {\"word\": \"plan\", \"frequency\": 3637}, {\"word\": \"start\", \"frequency\": 3540}, {\"word\": \"last\", \"frequency\": 3514}, {\"word\": \"much\", \"frequency\": 3463}]'"
      ]
     },
     "execution_count": 138,
     "metadata": {},
     "output_type": "execute_result"
    }
   ],
   "source": [
    "get_json_data(frequencies_df_2022)"
   ]
  },
  {
   "attachments": {},
   "cell_type": "markdown",
   "metadata": {},
   "source": [
    "## For 2019"
   ]
  },
  {
   "cell_type": "code",
   "execution_count": 139,
   "metadata": {},
   "outputs": [],
   "source": [
    "frequencies_df_2019, df_2019 = get_filtered_data_on_year(year=2019)"
   ]
  },
  {
   "cell_type": "code",
   "execution_count": 131,
   "metadata": {},
   "outputs": [
    {
     "data": {
      "text/plain": [
       "'[{\"word\": \"said\", \"frequency\": 16608}, {\"word\": \"year\", \"frequency\": 14500}, {\"word\": \"cent\", \"frequency\": 12152}, {\"word\": \"home\", \"frequency\": 11402}, {\"word\": \"servic\", \"frequency\": 10913}, {\"word\": \"fund\", \"frequency\": 9979}, {\"word\": \"would\", \"frequency\": 9320}, {\"word\": \"retir\", \"frequency\": 8825}, {\"word\": \"rate\", \"frequency\": 8499}, {\"word\": \"invest\", \"frequency\": 8484}, {\"word\": \"bank\", \"frequency\": 8425}, {\"word\": \"super\", \"frequency\": 8408}, {\"word\": \"financi\", \"frequency\": 8222}, {\"word\": \"properti\", \"frequency\": 7260}, {\"word\": \"pension\", \"frequency\": 7079}, {\"word\": \"peopl\", \"frequency\": 6954}, {\"word\": \"time\", \"frequency\": 6627}, {\"word\": \"loan\", \"frequency\": 6601}, {\"word\": \"also\", \"frequency\": 6204}, {\"word\": \"make\", \"frequency\": 6178}, {\"word\": \"incom\", \"frequency\": 6013}, {\"word\": \"market\", \"frequency\": 5943}, {\"word\": \"australian\", \"frequency\": 5934}, {\"word\": \"govern\", \"frequency\": 5911}, {\"word\": \"need\", \"frequency\": 5732}, {\"word\": \"superannu\", \"frequency\": 5348}, {\"word\": \"interest\", \"frequency\": 5268}, {\"word\": \"australia\", \"frequency\": 5182}, {\"word\": \"money\", \"frequency\": 5177}, {\"word\": \"work\", \"frequency\": 5155}, {\"word\": \"price\", \"frequency\": 5086}, {\"word\": \"cost\", \"frequency\": 5023}, {\"word\": \"save\", \"frequency\": 4995}, {\"word\": \"say\", \"frequency\": 4935}, {\"word\": \"could\", \"frequency\": 4932}, {\"word\": \"mortgag\", \"frequency\": 4714}, {\"word\": \"includ\", \"frequency\": 4660}, {\"word\": \"hous\", \"frequency\": 4600}, {\"word\": \"like\", \"frequency\": 4557}, {\"word\": \"busi\", \"frequency\": 4445}, {\"word\": \"million\", \"frequency\": 4368}, {\"word\": \"manag\", \"frequency\": 4341}, {\"word\": \"first\", \"frequency\": 4276}, {\"word\": \"provid\", \"frequency\": 4147}, {\"word\": \"plan\", \"frequency\": 4114}, {\"word\": \"chang\", \"frequency\": 4076}, {\"word\": \"account\", \"frequency\": 3837}, {\"word\": \"take\", \"frequency\": 3820}, {\"word\": \"live\", \"frequency\": 3746}, {\"word\": \"increas\", \"frequency\": 3737}, {\"word\": \"mani\", \"frequency\": 3690}, {\"word\": \"asset\", \"frequency\": 3592}, {\"word\": \"buyer\", \"frequency\": 3435}, {\"word\": \"educ\", \"frequency\": 3401}, {\"word\": \"industri\", \"frequency\": 3353}, {\"word\": \"share\", \"frequency\": 3351}, {\"word\": \"month\", \"frequency\": 3327}, {\"word\": \"relat\", \"frequency\": 3296}, {\"word\": \"want\", \"frequency\": 3288}, {\"word\": \"report\", \"frequency\": 3263}]'"
      ]
     },
     "execution_count": 131,
     "metadata": {},
     "output_type": "execute_result"
    }
   ],
   "source": [
    "get_json_data(frequencies_df_2019)"
   ]
  },
  {
   "cell_type": "code",
   "execution_count": null,
   "metadata": {},
   "outputs": [],
   "source": []
  },
  {
   "attachments": {},
   "cell_type": "markdown",
   "metadata": {},
   "source": [
    "# For the bar chart"
   ]
  },
  {
   "attachments": {},
   "cell_type": "markdown",
   "metadata": {},
   "source": [
    "## For 2022"
   ]
  },
  {
   "cell_type": "code",
   "execution_count": 151,
   "metadata": {},
   "outputs": [
    {
     "name": "stderr",
     "output_type": "stream",
     "text": [
      "c:\\Users\\E116189\\RMIT\\Topic-modelling\\framework\\tpm\\lib\\site-packages\\ipykernel_launcher.py:6: SettingWithCopyWarning: \n",
      "A value is trying to be set on a copy of a slice from a DataFrame.\n",
      "Try using .loc[row_indexer,col_indexer] = value instead\n",
      "\n",
      "See the caveats in the documentation: https://pandas.pydata.org/pandas-docs/stable/user_guide/indexing.html#returning-a-view-versus-a-copy\n",
      "  \n"
     ]
    }
   ],
   "source": [
    "topic_names_inc_exc = pd.read_excel('../../../../australia/Financial_wellbeing_topic_names.xlsx', sheet_name='in')\n",
    "# Retain the appropriate topics only\n",
    "imp_topics_df = topic_names_inc_exc\n",
    "imp_topics_df['Topic Number'] = imp_topics_df['Topic Number'].apply(lambda x: 'topic '+str(x))\n",
    "topics_renamed = dict(zip(imp_topics_df['Topic Number'].values, imp_topics_df['Topic Name (created by research team)'].values))\n",
    "df_2022['renamed_topics'] = df_2022.corrected_topics.map(topics_renamed)\n",
    "df_2022"
   ]
  },
  {
   "cell_type": "code",
   "execution_count": 154,
   "metadata": {},
   "outputs": [],
   "source": [
    "df_2022_topic_counts = df_2022.renamed_topics.value_counts()"
   ]
  },
  {
   "cell_type": "code",
   "execution_count": null,
   "metadata": {},
   "outputs": [],
   "source": [
    "#  { date: new Date(\"2021-03-01\"), value: 15, label: 'Topic 2' }],"
   ]
  },
  {
   "cell_type": "code",
   "execution_count": 179,
   "metadata": {},
   "outputs": [],
   "source": [
    "dates = []\n",
    "\n",
    "for num, (i, r) in enumerate(df_2022_topic_counts.iteritems()):\n",
    "    dates.append({'date: ' + f'new Date(\"2021-0{num+3}-01\"), value: {r}, label: \"{i}\"'})"
   ]
  },
  {
   "cell_type": "code",
   "execution_count": 180,
   "metadata": {},
   "outputs": [
    {
     "data": {
      "text/plain": [
       "[{'date: new Date(\"2021-03-01\"), value: 825, label: \"Billionaires\"'},\n",
       " {'date: new Date(\"2021-04-01\"), value: 442, label: \"Criminal law\"'},\n",
       " {'date: new Date(\"2021-05-01\"), value: 373, label: \"Superannuation\"'},\n",
       " {'date: new Date(\"2021-06-01\"), value: 301, label: \"Pubilc statements (see 38) \"'},\n",
       " {'date: new Date(\"2021-07-01\"), value: 257, label: \"Social security and government benefits\"'},\n",
       " {'date: new Date(\"2021-08-01\"), value: 244, label: \"Life insurance\"'},\n",
       " {'date: new Date(\"2021-09-01\"), value: 233, label: \"Food and cooking\"'},\n",
       " {'date: new Date(\"2021-010-01\"), value: 190, label: \"Property market\"'},\n",
       " {'date: new Date(\"2021-011-01\"), value: 152, label: \"Food and nutrition\"'},\n",
       " {'date: new Date(\"2021-012-01\"), value: 151, label: \"Start ups\"'},\n",
       " {'date: new Date(\"2021-013-01\"), value: 150, label: \"Education and training\"'},\n",
       " {'date: new Date(\"2021-014-01\"), value: 124, label: \"Trusts and lending\"'},\n",
       " {'date: new Date(\"2021-015-01\"), value: 107, label: \"Index funds\"'},\n",
       " {'date: new Date(\"2021-016-01\"), value: 106, label: \"More public statements (see 26)\"'},\n",
       " {'date: new Date(\"2021-017-01\"), value: 106, label: \"Banking royal commission\"'},\n",
       " {'date: new Date(\"2021-018-01\"), value: 102, label: \"First homebuyers\"'},\n",
       " {'date: new Date(\"2021-019-01\"), value: 100, label: \"Australian stock market\"'},\n",
       " {'date: new Date(\"2021-020-01\"), value: 96, label: \"Homes, houses and renovation\"'},\n",
       " {'date: new Date(\"2021-021-01\"), value: 93, label: \"Investment trusts\"'},\n",
       " {'date: new Date(\"2021-022-01\"), value: 90, label: \"Renewable energy\"'},\n",
       " {'date: new Date(\"2021-023-01\"), value: 89, label: \"International markets\"'},\n",
       " {'date: new Date(\"2021-024-01\"), value: 74, label: \"Stock warrants (options)\"'},\n",
       " {'date: new Date(\"2021-025-01\"), value: 68, label: \"Share investing game\"'},\n",
       " {'date: new Date(\"2021-026-01\"), value: 59, label: \"Investing for retirement\"'},\n",
       " {'date: new Date(\"2021-027-01\"), value: 55, label: \"Lost superannuation accounts\"'},\n",
       " {'date: new Date(\"2021-028-01\"), value: 51, label: \"Inheritance and family legal affairs\"'},\n",
       " {'date: new Date(\"2021-029-01\"), value: 49, label: \"Propery sale and investment in retirement\"'},\n",
       " {'date: new Date(\"2021-030-01\"), value: 44, label: \"Retirement\"'},\n",
       " {'date: new Date(\"2021-031-01\"), value: 43, label: \"Water bills and water infrastructure\"'},\n",
       " {'date: new Date(\"2021-032-01\"), value: 39, label: \"Fintech and online payments\"'},\n",
       " {'date: new Date(\"2021-033-01\"), value: 35, label: \"Technical investment advice\"'},\n",
       " {'date: new Date(\"2021-034-01\"), value: 32, label: \"Art markets\"'},\n",
       " {'date: new Date(\"2021-035-01\"), value: 26, label: \"Financial scams\"'},\n",
       " {'date: new Date(\"2021-036-01\"), value: 24, label: \"Mining\"'},\n",
       " {'date: new Date(\"2021-037-01\"), value: 21, label: \"General/uncategorised\"'},\n",
       " {'date: new Date(\"2021-038-01\"), value: 20, label: \"Debt and lending\"'},\n",
       " {'date: new Date(\"2021-039-01\"), value: 17, label: \"Executive remuneration\"'},\n",
       " {'date: new Date(\"2021-040-01\"), value: 3, label: \"Divorce and family legal affairs\"'},\n",
       " {'date: new Date(\"2021-041-01\"), value: 1, label: \"Federal politics\"'}]"
      ]
     },
     "execution_count": 180,
     "metadata": {},
     "output_type": "execute_result"
    }
   ],
   "source": [
    "dates"
   ]
  },
  {
   "cell_type": "code",
   "execution_count": null,
   "metadata": {},
   "outputs": [],
   "source": []
  }
 ],
 "metadata": {
  "kernelspec": {
   "display_name": "tpm",
   "language": "python",
   "name": "python3"
  },
  "language_info": {
   "codemirror_mode": {
    "name": "ipython",
    "version": 3
   },
   "file_extension": ".py",
   "mimetype": "text/x-python",
   "name": "python",
   "nbconvert_exporter": "python",
   "pygments_lexer": "ipython3",
   "version": "3.7.5"
  },
  "orig_nbformat": 4
 },
 "nbformat": 4,
 "nbformat_minor": 2
}
